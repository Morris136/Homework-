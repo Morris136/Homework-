{
  "nbformat": 4,
  "nbformat_minor": 0,
  "metadata": {
    "colab": {
      "provenance": [],
      "include_colab_link": true
    },
    "kernelspec": {
      "name": "python3",
      "display_name": "Python 3"
    },
    "language_info": {
      "name": "python"
    }
  },
  "cells": [
    {
      "cell_type": "markdown",
      "metadata": {
        "id": "view-in-github",
        "colab_type": "text"
      },
      "source": [
        "<a href=\"https://colab.research.google.com/github/Morris136/Homework-/blob/main/Untitled1.ipynb\" target=\"_parent\"><img src=\"https://colab.research.google.com/assets/colab-badge.svg\" alt=\"Open In Colab\"/></a>"
      ]
    },
    {
      "cell_type": "code",
      "source": [
        "def make_rag_prompt(query, relevant_passage):\n",
        "    \"\"\"\n",
        "    Constructs a prompt for a generative model by combining relevant passages and the user query.\n",
        "\n",
        "    Args:\n",
        "        query (str): The user's original question.\n",
        "        relevant_passage (List[str]): List of relevant text chunks retrieved from the database.\n",
        "\n",
        "    Returns:\n",
        "        str: A complete prompt string for the generative model.\n",
        "    \"\"\"\n",
        "    context = \"\\n\".join(relevant_passage)\n",
        "\n",
        "    prompt = (\n",
        "        \"Based on the following information:\\n\"\n",
        "        f\"{context}\\n\\n\"\n",
        "        f\"Please answer the following question:\\n{query}\"\n",
        "    )\n",
        "\n",
        "    return prompt\n"
      ],
      "metadata": {
        "id": "02Tmam8qLiB9"
      },
      "execution_count": null,
      "outputs": []
    }
  ]
}