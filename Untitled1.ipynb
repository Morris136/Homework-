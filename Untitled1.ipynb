{
  "nbformat": 4,
  "nbformat_minor": 0,
  "metadata": {
    "colab": {
      "provenance": [],
      "include_colab_link": true
    },
    "kernelspec": {
      "name": "python3",
      "display_name": "Python 3"
    },
    "language_info": {
      "name": "python"
    }
  },
  "cells": [
    {
      "cell_type": "markdown",
      "metadata": {
        "id": "view-in-github",
        "colab_type": "text"
      },
      "source": [
        "<a href=\"https://colab.research.google.com/github/Morris136/Homework-/blob/main/Untitled1.ipynb\" target=\"_parent\"><img src=\"https://colab.research.google.com/assets/colab-badge.svg\" alt=\"Open In Colab\"/></a>"
      ]
    },
    {
      "cell_type": "code",
      "source": [
        "import re\n",
        "\n",
        "def split_text(text, max_sentences=5):\n",
        "    \"\"\"\n",
        "    Splits input text into a list of smaller chunks.\n",
        "    Each chunk contains up to `max_sentences` sentences.\n",
        "    Paragraph structure is preserved when possible.\n",
        "\n",
        "    Args:\n",
        "        text (str): Full text extracted from the PDF.\n",
        "        max_sentences (int): Number of sentences per chunk.\n",
        "\n",
        "    Returns:\n",
        "        List[str]: List of text chunks.\n",
        "    \"\"\"\n",
        "\n",
        "    # Step 1: Normalize text (handle newlines)\n",
        "    paragraphs = [p.strip() for p in text.split('\\n') if p.strip()]\n",
        "\n",
        "    chunks = []\n",
        "    for para in paragraphs:\n",
        "        # Step 2: Split paragraph into sentences\n",
        "        sentences = re.split(r'(?<=[.!?])\\s+', para)\n",
        "\n",
        "        # Step 3: Group sentences into chunks\n",
        "        for i in range(0, len(sentences), max_sentences):\n",
        "            chunk = \" \".join(sentences[i:i + max_sentences])\n",
        "            chunks.append(chunk)\n",
        "\n",
        "    return chunks\n"
      ],
      "metadata": {
        "id": "hYENmLVpKBig"
      },
      "execution_count": null,
      "outputs": []
    }
  ]
}