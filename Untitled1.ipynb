{
  "nbformat": 4,
  "nbformat_minor": 0,
  "metadata": {
    "colab": {
      "provenance": [],
      "include_colab_link": true
    },
    "kernelspec": {
      "name": "python3",
      "display_name": "Python 3"
    },
    "language_info": {
      "name": "python"
    }
  },
  "cells": [
    {
      "cell_type": "markdown",
      "metadata": {
        "id": "view-in-github",
        "colab_type": "text"
      },
      "source": [
        "<a href=\"https://colab.research.google.com/github/Morris136/Homework-/blob/main/Untitled1.ipynb\" target=\"_parent\"><img src=\"https://colab.research.google.com/assets/colab-badge.svg\" alt=\"Open In Colab\"/></a>"
      ]
    },
    {
      "cell_type": "code",
      "source": [
        "import os\n",
        "import google.generativeai as genai\n",
        "from google.generativeai.types import GenerationConfig\n",
        "\n",
        "# 🔐 Replace with your actual API key\n",
        "GOOGLE_API_KEY = \"你的_API_金鑰\"\n",
        "genai.configure(api_key=GOOGLE_API_KEY)\n",
        "\n",
        "# ✅ Function with temperature & max token support\n",
        "def generate_answer(prompt, temperature=0.5, max_tokens=100):\n",
        "    model = genai.GenerativeModel('gemini-pro')\n",
        "    config = GenerationConfig(\n",
        "        temperature=temperature,\n",
        "        max_output_tokens=max_tokens\n",
        "    )\n",
        "    response = model.generate_content(prompt, generation_config=config)\n",
        "    return response.text\n",
        "\n",
        "# ✅ Main: Compare different max_tokens\n",
        "def main():\n",
        "    final_prompt = \"Explain how solar panels work in simple terms.\"\n",
        "    temperature = 0.5\n",
        "    token_limits = [20, 50, 200]\n",
        "\n",
        "    for max_tokens in token_limits:\n",
        "        print(\"=\" * 70)\n",
        "        print(f\"🔹 Max Tokens: {max_tokens} | Temperature: {temperature}\")\n",
        "        print(\"-\" * 70)\n",
        "        output = generate_answer(final_prompt, temperature=temperature, max_tokens=max_tokens)\n",
        "        print(output.strip())\n",
        "        print(\"=\" * 70 + \"\\n\")\n",
        "\n",
        "if __name__ == \"__main__\":\n",
        "    main()\n"
      ],
      "metadata": {
        "id": "dBYn9eIRIEeG"
      },
      "execution_count": null,
      "outputs": []
    }
  ]
}