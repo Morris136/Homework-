{
  "nbformat": 4,
  "nbformat_minor": 0,
  "metadata": {
    "colab": {
      "provenance": [],
      "include_colab_link": true
    },
    "kernelspec": {
      "name": "python3",
      "display_name": "Python 3"
    },
    "language_info": {
      "name": "python"
    }
  },
  "cells": [
    {
      "cell_type": "markdown",
      "metadata": {
        "id": "view-in-github",
        "colab_type": "text"
      },
      "source": [
        "<a href=\"https://colab.research.google.com/github/Morris136/Homework-/blob/main/Untitled1.ipynb\" target=\"_parent\"><img src=\"https://colab.research.google.com/assets/colab-badge.svg\" alt=\"Open In Colab\"/></a>"
      ]
    },
    {
      "cell_type": "code",
      "source": [
        "import os\n",
        "import sys\n",
        "import numpy as np\n",
        "import pandas as pd\n",
        "from sentence_transformers import SentenceTransformer\n",
        "from sklearn.metrics.pairwise import cosine_similarity\n",
        "\n",
        "DATASET_PATH = 'movie_plots.csv'\n",
        "EMBEDDINGS_PATH = 'movie_plots_embeddings.npy'\n",
        "\n",
        "def load_dataset():\n",
        "    if not os.path.exists(DATASET_PATH):\n",
        "        print(f\"Dataset file '{DATASET_PATH}' not found. Please provide the dataset.\")\n",
        "        sys.exit(1)\n",
        "    df = pd.read_csv(DATASET_PATH)\n",
        "    if 'plot' not in df.columns or 'title' not in df.columns:\n",
        "        print(\"Dataset must contain 'title' and 'plot' columns.\")\n",
        "        sys.exit(1)\n",
        "    return df\n",
        "\n",
        "def load_or_create_embeddings(df, model):\n",
        "    if os.path.exists(EMBEDDINGS_PATH):\n",
        "        print(f\"Loading precomputed embeddings from '{EMBEDDINGS_PATH}'...\")\n",
        "        embeddings = np.load(EMBEDDINGS_PATH)\n",
        "    else:\n",
        "        print(\"Generating embeddings for dataset...\")\n",
        "        embeddings = model.encode(df['plot'].tolist(), show_progress_bar=True)\n",
        "        embeddings = np.array(embeddings)\n",
        "        np.save(EMBEDDINGS_PATH, embeddings)\n",
        "        print(f\"Embeddings saved to '{EMBEDDINGS_PATH}'.\")\n",
        "    return embeddings\n",
        "\n",
        "def find_top_k_similar(embedding, embeddings_matrix, df, top_k=5):\n",
        "    embedding = embedding.reshape(1, -1)\n",
        "    similarities = cosine_similarity(embedding, embeddings_matrix)[0]\n",
        "    top_k_idx = similarities.argsort()[-top_k:][::-1]\n",
        "    results = [(df.iloc[i]['title'], similarities[i]) for i in top_k_idx]\n",
        "    return results\n",
        "\n",
        "def main():\n",
        "    print(\"Loading dataset...\")\n",
        "    df = load_dataset()\n",
        "\n",
        "    print(\"Loading embedding model...\")\n",
        "    model = SentenceTransformer('all-MiniLM-L6-v2')\n",
        "\n",
        "    embeddings = load_or_create_embeddings(df, model)\n",
        "\n",
        "    print(\"\\n=== Movie Recommendation CLI ===\")\n",
        "    print(\"Enter a movie plot or description (or 'exit' to quit):\")\n",
        "\n",
        "    while True:\n",
        "        user_input = input(\"\\nYour input: \").strip()\n",
        "        if user_input.lower() in ['exit', 'quit']:\n",
        "            print(\"Exiting. Goodbye!\")\n",
        "            break\n",
        "        if len(user_input) < 5:\n",
        "            print(\"Please enter a longer text for meaningful recommendations.\")\n",
        "            continue\n",
        "\n",
        "        user_embedding = model.encode([user_input])[0]\n",
        "        recommendations = find_top_k_similar(user_embedding, embeddings, df, top_k=5)\n",
        "\n",
        "        print(\"\\nTop 5 recommended movies based on your input:\")\n",
        "        for i, (title, score) in enumerate(recommendations, 1):\n",
        "            print(f\"{i}. {title} (similarity: {score:.4f})\")\n",
        "\n",
        "if __name__ == '__main__':\n",
        "    main()\n"
      ],
      "metadata": {
        "id": "qGfZd8qSPhFL"
      },
      "execution_count": null,
      "outputs": []
    }
  ]
}