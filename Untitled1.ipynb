{
  "nbformat": 4,
  "nbformat_minor": 0,
  "metadata": {
    "colab": {
      "provenance": [],
      "include_colab_link": true
    },
    "kernelspec": {
      "name": "python3",
      "display_name": "Python 3"
    },
    "language_info": {
      "name": "python"
    }
  },
  "cells": [
    {
      "cell_type": "markdown",
      "metadata": {
        "id": "view-in-github",
        "colab_type": "text"
      },
      "source": [
        "<a href=\"https://colab.research.google.com/github/Morris136/Homework-/blob/main/Untitled1.ipynb\" target=\"_parent\"><img src=\"https://colab.research.google.com/assets/colab-badge.svg\" alt=\"Open In Colab\"/></a>"
      ]
    },
    {
      "cell_type": "code",
      "source": [
        "import pandas as pd\n",
        "\n",
        "# Generate 100 sample movie entries with simple fake plots\n",
        "data = []\n",
        "for i in range(1, 101):\n",
        "    data.append({\n",
        "        'movie_id': i,\n",
        "        'title': f'Movie Title {i}',\n",
        "        'plot': f'This is the plot of movie number {i}. It tells a story about adventure, mystery, and excitement with unique characters and thrilling events.'\n",
        "    })\n",
        "\n",
        "# Convert to DataFrame\n",
        "df = pd.DataFrame(data)\n",
        "\n",
        "# Save as CSV\n",
        "df.to_csv('movie_plots.csv', index=False)\n",
        "\n",
        "print(\"Sample movie_plots.csv with 100 entries created.\")\n"
      ],
      "metadata": {
        "id": "wwqapKR7ONOu"
      },
      "execution_count": null,
      "outputs": []
    }
  ]
}