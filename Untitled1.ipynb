{
  "nbformat": 4,
  "nbformat_minor": 0,
  "metadata": {
    "colab": {
      "provenance": [],
      "include_colab_link": true
    },
    "kernelspec": {
      "name": "python3",
      "display_name": "Python 3"
    },
    "language_info": {
      "name": "python"
    }
  },
  "cells": [
    {
      "cell_type": "markdown",
      "metadata": {
        "id": "view-in-github",
        "colab_type": "text"
      },
      "source": [
        "<a href=\"https://colab.research.google.com/github/Morris136/Homework-/blob/main/Untitled1.ipynb\" target=\"_parent\"><img src=\"https://colab.research.google.com/assets/colab-badge.svg\" alt=\"Open In Colab\"/></a>"
      ]
    },
    {
      "cell_type": "code",
      "source": [
        "import os\n",
        "import google.generativeai as genai\n",
        "from google.generativeai.types import GenerationConfig\n",
        "\n",
        "# 🔐 Replace with your own API key\n",
        "GOOGLE_API_KEY = \"你的_API_金鑰\"\n",
        "genai.configure(api_key=GOOGLE_API_KEY)\n",
        "\n",
        "# ✅ Function to generate answer with temperature and max_tokens\n",
        "def generate_answer(prompt, temperature=0.7, max_tokens=256):\n",
        "    model = genai.GenerativeModel('gemini-pro')\n",
        "    config = GenerationConfig(\n",
        "        temperature=temperature,\n",
        "        max_output_tokens=max_tokens\n",
        "    )\n",
        "    response = model.generate_content(prompt, generation_config=config)\n",
        "    return response.text\n",
        "\n",
        "# ✅ Main: compare different temperatures\n",
        "def main():\n",
        "    final_prompt = \"Describe the process of photosynthesis in simple terms.\"\n",
        "\n",
        "    temperatures = [0.0, 0.5, 1.0]\n",
        "\n",
        "    for temp in temperatures:\n",
        "        print(\"=\" * 60)\n",
        "        print(f\"🔹 Temperature: {temp}\")\n",
        "        print(\"-\" * 60)\n",
        "        output = generate_answer(final_prompt, temperature=temp, max_tokens=150)\n",
        "        print(output)\n",
        "        print(\"=\" * 60 + \"\\n\")\n",
        "\n",
        "if __name__ == \"__main__\":\n",
        "    main()\n"
      ],
      "metadata": {
        "id": "gUmLjEWJG7bF"
      },
      "execution_count": null,
      "outputs": []
    }
  ]
}