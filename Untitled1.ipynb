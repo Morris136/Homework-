{
  "nbformat": 4,
  "nbformat_minor": 0,
  "metadata": {
    "colab": {
      "provenance": [],
      "include_colab_link": true
    },
    "kernelspec": {
      "name": "python3",
      "display_name": "Python 3"
    },
    "language_info": {
      "name": "python"
    }
  },
  "cells": [
    {
      "cell_type": "markdown",
      "metadata": {
        "id": "view-in-github",
        "colab_type": "text"
      },
      "source": [
        "<a href=\"https://colab.research.google.com/github/Morris136/Homework-/blob/main/Untitled1.ipynb\" target=\"_parent\"><img src=\"https://colab.research.google.com/assets/colab-badge.svg\" alt=\"Open In Colab\"/></a>"
      ]
    },
    {
      "cell_type": "code",
      "source": [
        "import pandas as pd\n",
        "from sklearn.feature_extraction.text import TfidfVectorizer\n",
        "from sklearn.metrics.pairwise import cosine_similarity\n",
        "\n",
        "# ---------- Step 1: Load Dataset ----------\n",
        "def load_dataset(csv_path):\n",
        "    df = pd.read_csv(csv_path)\n",
        "    df = df.dropna(subset=[\"plot\"])  # remove entries with missing plots\n",
        "    return df\n",
        "\n",
        "# ---------- Step 2: Create TF-IDF Matrix ----------\n",
        "def build_tfidf_matrix(df):\n",
        "    vectorizer = TfidfVectorizer(stop_words='english')\n",
        "    tfidf_matrix = vectorizer.fit_transform(df['plot'])\n",
        "    return tfidf_matrix\n",
        "\n",
        "# ---------- Step 3: Recommend Similar Movies ----------\n",
        "def recommend_movies(title, df, tfidf_matrix, top_n=5):\n",
        "    if title not in df['title'].values:\n",
        "        raise ValueError(\"Movie title not found in dataset.\")\n",
        "\n",
        "    idx = df[df['title'] == title].index[0]\n",
        "    cosine_sim = cosine_similarity(tfidf_matrix[idx], tfidf_matrix).flatten()\n",
        "\n",
        "    # Get indices of top similar movies, excluding itself\n",
        "    similar_indices = cosine_sim.argsort()[::-1][1:top]()\n"
      ],
      "metadata": {
        "id": "8zsHiypFM5MY"
      },
      "execution_count": null,
      "outputs": []
    }
  ]
}