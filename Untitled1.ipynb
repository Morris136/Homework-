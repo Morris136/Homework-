{
  "nbformat": 4,
  "nbformat_minor": 0,
  "metadata": {
    "colab": {
      "provenance": [],
      "include_colab_link": true
    },
    "kernelspec": {
      "name": "python3",
      "display_name": "Python 3"
    },
    "language_info": {
      "name": "python"
    }
  },
  "cells": [
    {
      "cell_type": "markdown",
      "metadata": {
        "id": "view-in-github",
        "colab_type": "text"
      },
      "source": [
        "<a href=\"https://colab.research.google.com/github/Morris136/Homework-/blob/main/Untitled1.ipynb\" target=\"_parent\"><img src=\"https://colab.research.google.com/assets/colab-badge.svg\" alt=\"Open In Colab\"/></a>"
      ]
    },
    {
      "cell_type": "code",
      "source": [
        "def get_relevant_passage(query, db, n_results=3):\n",
        "    \"\"\"\n",
        "    Searches the ChromaDB collection for passages most similar to the user's query.\n",
        "\n",
        "    Args:\n",
        "        query (str): The user input to search for.\n",
        "        db (chromadb.api.models.Collection.Collection): The ChromaDB collection.\n",
        "        n_results (int): Number of top relevant results to return.\n",
        "\n",
        "    Returns:\n",
        "        List[str]: A list of relevant text chunks from the database.\n",
        "    \"\"\"\n",
        "    # Embed the query using the same embedding function as the database\n",
        "    embed_fn = GeminiEmbeddingFunction()\n",
        "    query_embedding = embed_fn([query])[0]  # embed_fn returns a list of vectors\n",
        "\n",
        "    # Search the database using the query vector\n",
        "    results = db.query(query_embeddings=[query_embedding], n_results=n_results)\n",
        "\n",
        "    # Return matching documents (text chunks)\n",
        "    return results['documents'][0] if 'documents' in results else []\n"
      ],
      "metadata": {
        "id": "03Fw70T8LRYC"
      },
      "execution_count": null,
      "outputs": []
    }
  ]
}