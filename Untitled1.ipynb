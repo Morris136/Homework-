{
  "nbformat": 4,
  "nbformat_minor": 0,
  "metadata": {
    "colab": {
      "provenance": [],
      "include_colab_link": true
    },
    "kernelspec": {
      "name": "python3",
      "display_name": "Python 3"
    },
    "language_info": {
      "name": "python"
    }
  },
  "cells": [
    {
      "cell_type": "markdown",
      "metadata": {
        "id": "view-in-github",
        "colab_type": "text"
      },
      "source": [
        "<a href=\"https://colab.research.google.com/github/Morris136/Homework-/blob/main/Untitled1.ipynb\" target=\"_parent\"><img src=\"https://colab.research.google.com/assets/colab-badge.svg\" alt=\"Open In Colab\"/></a>"
      ]
    },
    {
      "cell_type": "code",
      "source": [
        "import pandas as pd\n",
        "import numpy as np\n",
        "from sentence_transformers import SentenceTransformer\n",
        "\n",
        "# Load your dataset (make sure you have at least 50 entries)\n",
        "df = pd.read_csv('movie_plots.csv')  # Assume this file exists with 'plot' column\n",
        "assert len(df) >= 50, \"Dataset must contain at least 50 entries\"\n",
        "\n",
        "# Initialize the embedding model\n",
        "model = SentenceTransformer('all-MiniLM-L6-v2')\n",
        "\n",
        "# Extract texts to embed (here, movie plots)\n",
        "texts = df['plot'].tolist()\n",
        "\n",
        "# Generate embeddings (this returns a list of numpy arrays)\n",
        "embeddings = model.encode(texts, show_progress_bar=True)\n",
        "\n",
        "# Convert to a single NumPy array (shape: num_texts x embedding_dim)\n",
        "embeddings_array = np.array(embeddings)\n",
        "\n",
        "# Save embeddings to disk for later use\n",
        "np.save('movie_plots_embeddings.npy', embeddings_array)\n",
        "\n",
        "print(f\"Generated embeddings for {len(texts)} entries with shape {embeddings_array.shape}\")\n",
        "print(\"Embeddings saved to 'movie_plots_embeddings.npy'\")\n"
      ],
      "metadata": {
        "id": "Q9Fsaz5-O2TI"
      },
      "execution_count": null,
      "outputs": []
    }
  ]
}