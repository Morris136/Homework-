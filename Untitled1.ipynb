{
  "nbformat": 4,
  "nbformat_minor": 0,
  "metadata": {
    "colab": {
      "provenance": [],
      "include_colab_link": true
    },
    "kernelspec": {
      "name": "python3",
      "display_name": "Python 3"
    },
    "language_info": {
      "name": "python"
    }
  },
  "cells": [
    {
      "cell_type": "markdown",
      "metadata": {
        "id": "view-in-github",
        "colab_type": "text"
      },
      "source": [
        "<a href=\"https://colab.research.google.com/github/Morris136/Homework-/blob/main/Untitled1.ipynb\" target=\"_parent\"><img src=\"https://colab.research.google.com/assets/colab-badge.svg\" alt=\"Open In Colab\"/></a>"
      ]
    },
    {
      "cell_type": "code",
      "source": [
        "import pandas as pd\n",
        "from sklearn.feature_extraction.text import TfidfVectorizer\n",
        "from sklearn.metrics.pairwise import cosine_similarity\n",
        "\n",
        "# 1. Load dataset (CSV file with movie_id, title, plot)\n",
        "# You can replace this path with your actual CSV file path\n",
        "df = pd.read_csv('movie_plots.csv')\n",
        "\n",
        "# Show basic info\n",
        "print(f\"Dataset loaded with {len(df)} entries\")\n",
        "print(df.head())\n",
        "\n",
        "# 2. Text preprocessing (if needed)\n",
        "# For simplicity, we assume 'plot' column is clean text\n",
        "\n",
        "# 3. Vectorize movie plots using TF-IDF\n",
        "tfidf_vectorizer = TfidfVectorizer(stop_words='english', max_features=5000)\n",
        "tfidf_matrix = tfidf_vectorizer.fit_transform(df['plot'])\n",
        "\n",
        "# 4. Calculate cosine similarity matrix between all movies\n",
        "cosine_sim = cosine_similarity(tfidf_matrix, tfidf_matrix)\n",
        "\n",
        "# 5. Function to get movie recommendations based on content similarity\n",
        "def get_recommendations(title, cosine_sim=cosine_sim, df=df):\n",
        "    # Get index of the movie that ma\n"
      ],
      "metadata": {
        "id": "XGG7ixQrNlJ0"
      },
      "execution_count": null,
      "outputs": []
    }
  ]
}