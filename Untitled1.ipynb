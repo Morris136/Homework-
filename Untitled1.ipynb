{
  "nbformat": 4,
  "nbformat_minor": 0,
  "metadata": {
    "colab": {
      "provenance": [],
      "include_colab_link": true
    },
    "kernelspec": {
      "name": "python3",
      "display_name": "Python 3"
    },
    "language_info": {
      "name": "python"
    }
  },
  "cells": [
    {
      "cell_type": "markdown",
      "metadata": {
        "id": "view-in-github",
        "colab_type": "text"
      },
      "source": [
        "<a href=\"https://colab.research.google.com/github/Morris136/Homework-/blob/main/Untitled1.ipynb\" target=\"_parent\"><img src=\"https://colab.research.google.com/assets/colab-badge.svg\" alt=\"Open In Colab\"/></a>"
      ]
    },
    {
      "cell_type": "code",
      "source": [
        "import chromadb\n",
        "from chromadb.config import Settings\n",
        "\n",
        "# Dummy GeminiEmbeddingFunction (replace with actual implementation)\n",
        "class GeminiEmbeddingFunction:\n",
        "    def __init__(self):\n",
        "        pass\n",
        "\n",
        "    def __call__(self, texts):\n",
        "        # Replace this with actual Gemini API embedding call\n",
        "        # For example: return [get_embedding(text) for text in texts]\n",
        "        return [[hash(t) % 1_000_000 / 1_000_000.0 for _ in range(768)] for t in texts]\n",
        "\n",
        "def create_chroma_db(documents, path, name):\n",
        "    \"\"\"\n",
        "    Create or load a ChromaDB vector store and populate it with documents.\n",
        "\n",
        "    Args:\n",
        "        documents (List[str]): List of text chunks to embed and store.\n",
        "        path (str): File path to store the Chroma database.\n",
        "        name (str): Name of the Chroma collection.\n",
        "\n",
        "    Returns:\n",
        "        chromadb.api.models.Collection.Collection: The populated Chroma collection.\n",
        "    \"\"\"\n",
        "    # Initialize Chroma client with persistent storage\n",
        "    client = chromadb.Client(Settings(\n",
        "        chroma_db_impl=\"duckdb+parquet\",\n",
        "        persist_directory=path\n",
        "    ))\n",
        "\n",
        "    # Get or create the collection\n",
        "    if name in [col.name for col in client.list_collections()]:\n",
        "        collection = client.get_collection(name=name)\n",
        "    else:\n",
        "        collection = client.create_collection(name=name)\n",
        "\n",
        "    # Initialize embedding function\n",
        "    embed_fn = GeminiEmbeddingFunction()\n",
        "\n",
        "    # Generate embeddings\n",
        "    embeddings = embed_fn(documents)\n",
        "\n",
        "    # Add documents and embeddings to the collection\n",
        "    ids = [f\"doc_{i}\" for i in range(len(documents))]\n",
        "    collection.add(documents=documents, embeddings=embeddings, ids=ids)\n",
        "\n",
        "    return collection\n"
      ],
      "metadata": {
        "id": "MifU_gQ4KijF"
      },
      "execution_count": null,
      "outputs": []
    }
  ]
}